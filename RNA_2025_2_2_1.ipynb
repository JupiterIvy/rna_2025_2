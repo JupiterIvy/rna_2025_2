{
  "nbformat": 4,
  "nbformat_minor": 0,
  "metadata": {
    "colab": {
      "provenance": [],
      "include_colab_link": true
    },
    "kernelspec": {
      "name": "python3",
      "display_name": "Python 3"
    },
    "language_info": {
      "name": "python"
    }
  },
  "cells": [
    {
      "cell_type": "markdown",
      "metadata": {
        "id": "view-in-github",
        "colab_type": "text"
      },
      "source": [
        "<a href=\"https://colab.research.google.com/github/JupiterIvy/rna_2025_2/blob/experimentation_section/RNA_2025_2_2_1.ipynb\" target=\"_parent\"><img src=\"https://colab.research.google.com/assets/colab-badge.svg\" alt=\"Open In Colab\"/></a>"
      ]
    },
    {
      "cell_type": "markdown",
      "source": [
        "## Atividade Avaliativa 2.1 - Aprendizado Supervisionado no Neurônio Perceptron\n",
        "\n",
        "- Redes Neurais Artificiais 2025.2\n",
        "- Profa. Elloá B. Guedes (ebgcosta@uea.edu.br)\n",
        "- http://github.com/elloa\n",
        "\n",
        "### Equipe\n",
        "\n",
        "- Carla Lapa - 2213510004 ([github.com/carlapanog](https://github.com/carlapanog))\n",
        "- Evelyn Bessa - 2213510007 ([github.com/JupiterIvy](https://github.com/JupiterIvy))\n",
        "- Nezi Pimentel - 2213510058 ([github.com/nezi404](https://github.com/nezi404))\n",
        "- Samira Souza - 2213510027 ([github.com/samirasousza](https://github.com/samirasousza))\n",
        "- Sandra Valcacer - 2213510045 ([github.com/belavalcacer](https://github.com/belavalcacer))\n",
        "\n",
        "\n",
        "#### ID dos exemplos da atividade\n",
        "\n",
        "\n"
      ],
      "metadata": {
        "id": "f08dAC7T6wGG"
      }
    },
    {
      "cell_type": "code",
      "source": [
        "print(f\" ID = {(4 + 7 + 8 + 7 + 5) % 4}\")"
      ],
      "metadata": {
        "colab": {
          "base_uri": "https://localhost:8080/"
        },
        "id": "I7Rncxor-fr_",
        "outputId": "e4754e1e-d208-4c16-bd8c-277ec5a744fd"
      },
      "execution_count": 10,
      "outputs": [
        {
          "output_type": "stream",
          "name": "stdout",
          "text": [
            " ID = 3\n"
          ]
        }
      ]
    },
    {
      "cell_type": "markdown",
      "source": [
        "### Detalhamento da Atividade\n",
        "\n",
        "A atividade será dividida em três partes, cada uma a ser apresentada a seguir. Todas as atividades tem como entrada um arquivo txt com conteúdo em binário descrevendo um numpy.ndarray salvo previamente contendo múltiplos exemplos de dimensões (1,3), ou seja, tem dimensões (m,1,3), em que m varia a depender do documento considerado, de 800 a 1000, em média. Cada exemplo representa um ponto no $R^2$ e o seu respectivo rótulo, isto é, tem-se (x1,x2,yd). Os valores de yd correspondem às classes discretas e binárias 0 e 1, em que a classe 0 deve ser denotada na cor vermelha e a classe 1 deve ser denotada na cor azul."
      ],
      "metadata": {
        "id": "6c9JcedY-8OB"
      }
    },
    {
      "cell_type": "markdown",
      "source": [
        "### Parte I – Resolvendo um Problema Linearmente Separável\n",
        "\n",
        "Nesta parte, todas as equipes devem usar o arquivo dataAll.txt e construir o algoritmo de treinamento do neurônio perceptron para resolver o problema de classificação proposto. Alguns aspectos devem ser considerados:\n",
        "1. As equipes devem utilizar a função de ativação degrau com θ = 0;\n",
        "2. O valor da taxa de aprendizado deve ser igual a η = 0,1;\n",
        "3. O vetor inicial de pesos deve ter seus valores inicializados conforme uma variável aleatória de distribuição uniforme no intervalo, isto é, wi ∼ U(−0,5, + 0,5). O vetor inicial de pesos deve ser impresso no início da execução do algoritmo;\n",
        "4. O algoritmo deve executar até a convergência, isto é, até que não haja erros para todos os exemplos presentes no conjunto de treinamento;\n",
        "5. Ao final, deve-se imprimir:\n",
        "(a) O número total de ajustes no vetor de pesos;\n",
        "(b) O número de épocas até a convergência;\n",
        "(c) O gráfico contendo todos os exemplos do conjunto de dados e a reta que separa as classes obtida como resultado do treinamento do neurônio Perceptron. Respeitar o esquema de cores proposto inicialmente e apresentar a solução de maneira clara neste gráfico."
      ],
      "metadata": {
        "id": "6WJh1eSt_Cmv"
      }
    },
    {
      "cell_type": "code",
      "source": [
        "import numpy as np\n",
        "import matplotlib.pyplot as plt"
      ],
      "metadata": {
        "id": "wC4ZxzhjBvfA"
      },
      "execution_count": 11,
      "outputs": []
    },
    {
      "cell_type": "code",
      "source": [
        "class Perceptron:\n",
        "\n",
        "    def __init__(self, weights_val, learning_rate=0.1):\n",
        "        self.lr = learning_rate\n",
        "        self.activation_func = self._unit_step_func\n",
        "        self.weights = None\n",
        "        self.bias = None\n",
        "        self.weights_val = weights_val\n",
        "        self.total_updates = 0\n",
        "        self.epochs = 0\n",
        "\n",
        "    def fit(self, X, y):\n",
        "        n_samples, n_features = X.shape\n",
        "\n",
        "        self.weights = np.random.uniform(self.weights_val[0], self.weights_val[1], n_features)\n",
        "        self.bias = np.random.uniform(-0.5, 0.5)\n",
        "\n",
        "        print(\"Pesos iniciais:\", self.weights, \"Bias inicial:\", self.bias)\n",
        "\n",
        "        while True:\n",
        "            errors = 0\n",
        "            for idx, x_i in enumerate(X):\n",
        "                linear_output = np.dot(x_i, self.weights) + self.bias\n",
        "                y_predicted = self.activation_func(linear_output)\n",
        "\n",
        "                update = self.lr * (y[idx] - y_predicted)\n",
        "\n",
        "                if update != 0:  # Houve ajuste\n",
        "                    self.weights += update * x_i\n",
        "                    self.bias += update\n",
        "                    self.total_updates += 1\n",
        "                    errors += 1\n",
        "\n",
        "            self.epochs += 1\n",
        "            if errors == 0:  # convergência\n",
        "                break\n",
        "\n",
        "        print(f\"Total de ajustes: {self.total_updates}\")\n",
        "        print(f\"Épocas até convergência: {self.epochs}\")\n",
        "\n",
        "    def predict(self, X):\n",
        "        linear_output = np.dot(X, self.weights) + self.bias\n",
        "        y_predicted = self.activation_func(linear_output)\n",
        "        return y_predicted\n",
        "\n",
        "    def _unit_step_func(self, x):\n",
        "        return np.where(x >= 0, 1, 0)"
      ],
      "metadata": {
        "id": "945jKRBp_J1M"
      },
      "execution_count": 12,
      "outputs": []
    },
    {
      "cell_type": "code",
      "source": [
        "data = np.fromfile(\"dataAll.txt\", dtype=np.float64)\n",
        "data = data.reshape(-1, 3)\n",
        "\n",
        "X = data[:, :2]  # x1, x2\n",
        "y = data[:, 2].astype(int)  # label\n",
        "\n",
        "p = Perceptron((-0.5, 0.5), learning_rate=0.1)\n",
        "p.fit(X, y)\n",
        "\n",
        "plt.figure(figsize=(8, 6))\n",
        "\n",
        "plt.scatter(X[y == 0, 0], X[y == 0, 1], color=\"red\", label=\"Classe 0\")\n",
        "plt.scatter(X[y == 1, 0], X[y == 1, 1], color=\"blue\", label=\"Classe 1\")\n",
        "\n",
        "x1_vals = np.linspace(min(X[:, 0]) - 1, max(X[:, 0]) + 1, 100)\n",
        "x2_vals = -(p.weights[0] * x1_vals + p.bias) / p.weights[1]\n",
        "plt.plot(x1_vals, x2_vals, color=\"green\", linewidth=2, label=\"Fronteira de decisão\")\n",
        "\n",
        "plt.xlabel(\"x1\")\n",
        "plt.ylabel(\"x2\")\n",
        "plt.legend()\n",
        "plt.title(\"Classificação com Perceptron\")\n",
        "plt.show()"
      ],
      "metadata": {
        "id": "KlBxebPm_Jrz",
        "colab": {
          "base_uri": "https://localhost:8080/",
          "height": 616
        },
        "outputId": "55d1eee6-0765-453d-a031-2e0a084145c8"
      },
      "execution_count": 13,
      "outputs": [
        {
          "output_type": "stream",
          "name": "stdout",
          "text": [
            "Pesos iniciais: [ 0.0920198  -0.19803843] Bias inicial: 0.20147290806304985\n",
            "Total de ajustes: 12\n",
            "Épocas até convergência: 2\n"
          ]
        },
        {
          "output_type": "display_data",
          "data": {
            "text/plain": [
              "<Figure size 800x600 with 1 Axes>"
            ],
            "image/png": "[encoded data removed]"
          },
          "metadata": {}
        }
      ]
    },
    {
      "cell_type": "markdown",
      "source": [
        "### Parte II – Experimentação\n",
        "\n",
        "Nesta segunda parte, cada equipe deverá usar o seu respectivo identificador de exemplos para trabalhar com um arquivo específico. Por exemplo, se a equipe tem identificador 3, deve considerar o arquivo data3.txt.\n",
        "A equipe deve aproveitar o algoritmo construído na Parte I e executar 10 repetições do mesmo para as seguintes configurações:\n",
        "$$η×I = {0.4, 0.1, 0.01}× {(−100,+ 100),(−0.5,+ 0.5)}$$\n",
        "\n",
        "em que I é o intervalo a ser utilizado para a distribuição uniforme do valor dos pesos. Assim, há 6 configurações a serem testadas, cada uma delas por 10 repetições.\n",
        "Para cada configuração em suas 10 execuções, obter a média e o desvio padrão da quantidade de ajustes efetuados no vetor de pesos e o menor número de épocas até a convergência nestas 10 repetições. Dispor tais resultados sobre a forma de uma tabela e discutir se há uma configuração melhor ou pior que as demais ou se elas são equivalentes. Uma estrutura para esta tabela é sugerida a seguir, a qual foi preenchida com dados fictícios. Recomenda-se a utilização do pacote prettytable no notebook."
      ],
      "metadata": {
        "id": "jxpPHfQg_Ill"
      }
    },
    {
      "cell_type": "code",
      "source": [
        "import numpy as np\n",
        "\n",
        "data3 = np.fromfile(\"data3.txt\", dtype=float)\n",
        "data3"
      ],
      "metadata": {
        "id": "rlaIwFYsAhwl",
        "colab": {
          "base_uri": "https://localhost:8080/"
        },
        "outputId": "9072e654-6a4f-4a12-bfbe-25a2e1f56447"
      },
      "execution_count": 14,
      "outputs": [
        {
          "output_type": "execute_result",
          "data": {
            "text/plain": [
              "array([ 0.06162809, -0.1242566 ,  0.        , ...,  1.05935906,\n",
              "        0.93900834,  1.        ])"
            ]
          },
          "metadata": {},
          "execution_count": 14
        }
      ]
    },
    {
      "cell_type": "code",
      "source": [
        "X = np.array([[0,0], [0,1], [1,0], [1,1]])\n",
        "y = np.array([0, 0, 0, 1])\n",
        "\n",
        "configs = [\n",
        "    (0.01, (-0.5, 0.5)),\n",
        "    (0.1, (-0.5, 0.5)),\n",
        "    (0.4, (-0.5, 0.5)),\n",
        "    (0.01, (-100, 100)),\n",
        "    (0.1, (-100, 100)),\n",
        "    (0.4, (-100, 100)),\n",
        "]\n",
        "\n",
        "results = []\n",
        "\n",
        "for lr, interval in configs:\n",
        "    ajustes_list = []\n",
        "    epocas_list = []\n",
        "\n",
        "    for _ in range(10):\n",
        "        p = Perceptron(weights_val=interval, learning_rate=lr)\n",
        "        p.fit(X, y)\n",
        "        ajustes_list.append(p.total_updates)\n",
        "        epocas_list.append(p.epochs)\n",
        "\n",
        "    media_ajustes = round(np.mean(ajustes_list), 2)\n",
        "    desvio_ajustes = round(np.std(ajustes_list), 2)\n",
        "    menor_epoca = np.min(epocas_list)\n",
        "\n",
        "    results.append([lr, interval, media_ajustes, desvio_ajustes, menor_epoca])"
      ],
      "metadata": {
        "id": "MSSJls37AiA9",
        "colab": {
          "base_uri": "https://localhost:8080/"
        },
        "outputId": "2c42dfd5-6920-4653-ad2c-128b1fd366c2"
      },
      "execution_count": 15,
      "outputs": [
        {
          "output_type": "stream",
          "name": "stdout",
          "text": [
            "Pesos iniciais: [-0.2471854  -0.47407769] Bias inicial: 0.4119543786943193\n",
            "Total de ajustes: 156\n",
            "Épocas até convergência: 59\n",
            "Pesos iniciais: [ 0.05122688 -0.29998406] Bias inicial: -0.3512073824657813\n",
            "Total de ajustes: 50\n",
            "Épocas até convergência: 34\n",
            "Pesos iniciais: [-0.15610223  0.18904267] Bias inicial: 0.20515136616283014\n",
            "Total de ajustes: 63\n",
            "Épocas até convergência: 32\n",
            "Pesos iniciais: [ 0.37975397 -0.16016344] Bias inicial: 0.051275412206932436\n",
            "Total de ajustes: 60\n",
            "Épocas até convergência: 40\n",
            "Pesos iniciais: [-0.2022969   0.16492756] Bias inicial: 0.18737050871478833\n",
            "Total de ajustes: 67\n",
            "Épocas até convergência: 33\n",
            "Pesos iniciais: [ 0.31914248 -0.42888464] Bias inicial: -0.26069859220876224\n",
            "Total de ajustes: 91\n",
            "Épocas até convergência: 48\n",
            "Pesos iniciais: [0.3191749  0.21014203] Bias inicial: -0.1685113619988332\n",
            "Total de ajustes: 9\n",
            "Épocas até convergência: 8\n",
            "Pesos iniciais: [ 0.29989027 -0.39847184] Bias inicial: 0.06317517273266149\n",
            "Total de ajustes: 104\n",
            "Épocas até convergência: 57\n",
            "Pesos iniciais: [-0.26266166 -0.24691982] Bias inicial: 0.3433363003220601\n",
            "Total de ajustes: 131\n",
            "Épocas até convergência: 49\n",
            "Pesos iniciais: [-0.48733842 -0.12531012] Bias inicial: 0.34179364641495336\n",
            "Total de ajustes: 143\n",
            "Épocas até convergência: 55\n",
            "Pesos iniciais: [-0.32610644 -0.48752752] Bias inicial: -0.03930078070958154\n",
            "Total de ajustes: 20\n",
            "Épocas até convergência: 11\n",
            "Pesos iniciais: [-0.26411945  0.0755655 ] Bias inicial: -0.0653537473494672\n",
            "Total de ajustes: 16\n",
            "Épocas até convergência: 9\n",
            "Pesos iniciais: [ 0.27775798 -0.04435103] Bias inicial: 0.031579453022628656\n",
            "Total de ajustes: 9\n",
            "Épocas até convergência: 6\n",
            "Pesos iniciais: [0.03195794 0.00715453] Bias inicial: 0.15788660099245055\n",
            "Total de ajustes: 14\n",
            "Épocas até convergência: 7\n",
            "Pesos iniciais: [0.1499438  0.46106856] Bias inicial: -0.11746481107079465\n",
            "Total de ajustes: 2\n",
            "Épocas até convergência: 3\n",
            "Pesos iniciais: [0.35804628 0.34129731] Bias inicial: 0.1351284860892299\n",
            "Total de ajustes: 4\n",
            "Épocas até convergência: 3\n",
            "Pesos iniciais: [-0.10059879  0.30934591] Bias inicial: 0.18524790965603166\n",
            "Total de ajustes: 7\n",
            "Épocas até convergência: 5\n",
            "Pesos iniciais: [-0.35887734 -0.42082183] Bias inicial: 0.10817009063610716\n",
            "Total de ajustes: 12\n",
            "Épocas até convergência: 7\n",
            "Pesos iniciais: [-0.33363486 -0.2686159 ] Bias inicial: -0.1523287200155472\n",
            "Total de ajustes: 15\n",
            "Épocas até convergência: 9\n",
            "Pesos iniciais: [-0.31891953 -0.40977754] Bias inicial: -0.48977339385740004\n",
            "Total de ajustes: 14\n",
            "Épocas até convergência: 10\n",
            "Pesos iniciais: [-0.07055994 -0.18080186] Bias inicial: 0.3960309848383742\n",
            "Total de ajustes: 11\n",
            "Épocas até convergência: 6\n",
            "Pesos iniciais: [-0.29219809  0.30107356] Bias inicial: 0.09659813413945217\n",
            "Total de ajustes: 6\n",
            "Épocas até convergência: 4\n",
            "Pesos iniciais: [-0.33101242 -0.0706394 ] Bias inicial: 0.0042338795271194\n",
            "Total de ajustes: 3\n",
            "Épocas até convergência: 3\n",
            "Pesos iniciais: [-0.1840674  0.4028153] Bias inicial: 0.07110735025303871\n",
            "Total de ajustes: 13\n",
            "Épocas até convergência: 7\n",
            "Pesos iniciais: [-0.02356011 -0.30582611] Bias inicial: 0.4057719075592905\n",
            "Total de ajustes: 9\n",
            "Épocas até convergência: 5\n",
            "Pesos iniciais: [-0.49109766 -0.29036677] Bias inicial: -0.0027636394472576598\n",
            "Total de ajustes: 12\n",
            "Épocas até convergência: 7\n",
            "Pesos iniciais: [-0.14325774 -0.2702721 ] Bias inicial: 0.2647686161174594\n",
            "Total de ajustes: 13\n",
            "Épocas até convergência: 7\n",
            "Pesos iniciais: [0.39890528 0.44996797] Bias inicial: -0.42073973444304935\n",
            "Total de ajustes: 3\n",
            "Épocas até convergência: 3\n",
            "Pesos iniciais: [ 0.09091284 -0.17817881] Bias inicial: -0.4223915426575605\n",
            "Total de ajustes: 14\n",
            "Épocas até convergência: 8\n",
            "Pesos iniciais: [-0.4398453  -0.21140937] Bias inicial: -0.18202958908058942\n",
            "Total de ajustes: 19\n",
            "Épocas até convergência: 10\n",
            "Pesos iniciais: [-50.01963765 -89.05525835] Bias inicial: 0.4211028751273709\n",
            "Total de ajustes: 17865\n",
            "Épocas até convergência: 8912\n",
            "Pesos iniciais: [-47.90682634   0.54612006] Bias inicial: 0.21640594511258615\n",
            "Total de ajustes: 9636\n",
            "Épocas até convergência: 4822\n",
            "Pesos iniciais: [-28.4147214  -43.79955062] Bias inicial: -0.18469333015152012\n",
            "Total de ajustes: 8752\n",
            "Épocas até convergência: 4386\n",
            "Pesos iniciais: [67.87397721 47.00200385] Bias inicial: 0.1312732446741236\n",
            "Total de ajustes: 4188\n",
            "Épocas até convergência: 2614\n",
            "Pesos iniciais: [-96.96972542   3.58068431] Bias inicial: -0.3471494850204714\n",
            "Total de ajustes: 19558\n",
            "Épocas até convergência: 9861\n",
            "Pesos iniciais: [ 52.77829795 -69.2628635 ] Bias inicial: 0.45149046505862545\n",
            "Total de ajustes: 16541\n",
            "Épocas até convergência: 9568\n",
            "Pesos iniciais: [ 10.99391225 -39.89322101] Bias inicial: 0.4326782937057416\n",
            "Total de ajustes: 8576\n",
            "Épocas até convergência: 4542\n",
            "Pesos iniciais: [-13.48848713 -98.14495912] Bias inicial: 0.23810157167473633\n",
            "Total de ajustes: 19662\n",
            "Épocas até convergência: 9820\n",
            "Pesos iniciais: [-74.49453075 -39.78301386] Bias inicial: -0.03934396410491703\n",
            "Total de ajustes: 14900\n",
            "Épocas até convergência: 7453\n",
            "Pesos iniciais: [80.63909013 17.14159102] Bias inicial: -0.31737296628299383\n",
            "Total de ajustes: 4297\n",
            "Épocas até convergência: 3737\n",
            "Pesos iniciais: [95.02372927 92.67454078] Bias inicial: -0.19821055838405988\n",
            "Total de ajustes: 629\n",
            "Épocas até convergência: 321\n",
            "Pesos iniciais: [27.94417717 32.6883263 ] Bias inicial: -0.3624087895384561\n",
            "Total de ajustes: 208\n",
            "Épocas até convergência: 117\n",
            "Pesos iniciais: [73.97346286 -2.76974494] Bias inicial: 0.018829708716295968\n",
            "Total de ajustes: 429\n",
            "Épocas até convergência: 400\n",
            "Pesos iniciais: [48.76581127 51.17512228] Bias inicial: 0.4040707266875776\n",
            "Total de ajustes: 341\n",
            "Épocas até convergência: 177\n",
            "Pesos iniciais: [-22.73969472 -51.10539037] Bias inicial: -0.24383423919240477\n",
            "Total de ajustes: 1030\n",
            "Épocas até convergência: 517\n",
            "Pesos iniciais: [ 7.71841956 16.68877665] Bias inicial: 0.26717768048912216\n",
            "Total de ajustes: 99\n",
            "Épocas até convergência: 73\n",
            "Pesos iniciais: [ 84.22576767 -97.10791233] Bias inicial: 0.4941533625408827\n",
            "Total de ajustes: 2373\n",
            "Épocas até convergência: 1396\n",
            "Pesos iniciais: [-64.86468338 -14.44271888] Bias inicial: 0.2001662212031584\n",
            "Total de ajustes: 1311\n",
            "Épocas até convergência: 655\n",
            "Pesos iniciais: [-81.71674206  33.8614132 ] Bias inicial: -0.11913370482502983\n",
            "Total de ajustes: 1805\n",
            "Épocas até convergência: 988\n",
            "Pesos iniciais: [38.31972828 82.34662616] Bias inicial: 0.1862423266296942\n",
            "Total de ajustes: 478\n",
            "Épocas até convergência: 350\n",
            "Pesos iniciais: [-18.76066802   8.90173946] Bias inicial: -0.37364797742149425\n",
            "Total de ajustes: 107\n",
            "Épocas até convergência: 60\n",
            "Pesos iniciais: [92.16461937 74.86993598] Bias inicial: 0.37063530140241774\n",
            "Total de ajustes: 148\n",
            "Épocas até convergência: 85\n",
            "Pesos iniciais: [6.38342476 5.64151234] Bias inicial: -0.10132533579554626\n",
            "Total de ajustes: 11\n",
            "Épocas até convergência: 7\n",
            "Pesos iniciais: [ 26.19830226 -96.89839466] Bias inicial: -0.004959663053447305\n",
            "Total de ajustes: 519\n",
            "Épocas até convergência: 277\n",
            "Pesos iniciais: [ 81.3579154  -40.44306132] Bias inicial: 0.2127938861645906\n",
            "Total de ajustes: 309\n",
            "Épocas até convergência: 206\n",
            "Pesos iniciais: [-89.37364275  16.63343809] Bias inicial: 0.41820159817707614\n",
            "Total de ajustes: 473\n",
            "Épocas até convergência: 247\n",
            "Pesos iniciais: [-0.58561135 96.57436711] Bias inicial: 0.27227622643733895\n",
            "Total de ajustes: 128\n",
            "Épocas até convergência: 125\n",
            "Pesos iniciais: [-22.04455311 -12.15978089] Bias inicial: -0.018096492639745887\n",
            "Total de ajustes: 120\n",
            "Épocas até convergência: 61\n",
            "Pesos iniciais: [ 44.6670239  -32.30931079] Bias inicial: -0.17440731436866275\n",
            "Total de ajustes: 220\n",
            "Épocas até convergência: 139\n",
            "Pesos iniciais: [-96.7247315  -26.19360851] Bias inicial: 0.31335245010906054\n",
            "Total de ajustes: 495\n",
            "Épocas até convergência: 248\n"
          ]
        }
      ]
    },
    {
      "cell_type": "code",
      "source": [],
      "metadata": {
        "id": "pm_gocHiAid3"
      },
      "execution_count": 14,
      "outputs": []
    },
    {
      "cell_type": "code",
      "source": [],
      "metadata": {
        "id": "df-VY1tiAiP-"
      },
      "execution_count": 14,
      "outputs": []
    },
    {
      "cell_type": "markdown",
      "source": [
        "### Parte III – Validação Holdout em Problema Não-Linearmente Separável\n",
        "Todas as equipes devem considerar o arquivo dataHoldout.txt e apresentar um gráfico inicial que evidencie que este problema não é linearmente separável.\n",
        "\n",
        "Em seguida, os exemplos devem ser aleatoriamente divididos em duas partições, uma delas contendo 70% dos exemplos (treinamento) e outra contendo 30% (teste).\n",
        "\n",
        "A semente de aleatoriedade deve ser igual ao identificador da equipe.\n",
        "Embora o problema não seja linearmente separável, vamos utilizar os dados de treinamento para obter uma reta de separação das classes com o neurônio Perceptron (solução possível).\n",
        "\n",
        "O neurônio em questão tem função de ativação degrau com θ = 0, os valores de η e de inicialização de pesos devem seguir as recomendações da literatura e os pesos do neurônio devem ser aleatoriamente escolhidos a partir de U(−0,5, + 0,5).\n",
        "\n",
        "Execute o algoritmo por 100 épocas, mas a cada época apresente os exemplos disponíveis com conjunto de treinamento em\n",
        "ordem aleatória.\n",
        "\n",
        "\n",
        "Efetue a previsão da saída deste neurônio para todos os exemplos do conjunto de teste, comparando-a com a saída desejada e responda ao que se pede:\n",
        "\n",
        "1. Apresente a matriz de confusão das previsões efetuadas para o conjunto de testes;\n",
        "2. Qual a acurácia da solução proposta para os dados do conjunto de treinamento inicialmente\n",
        "fornecido?\n",
        "3. Nos mesmos termos da questão anterior, obtenha os valores de precisão, revocação e F-Score.\n",
        "Para estes cálculos, está liberada a utilização de sklearn.metrics;\n",
        "4. A partir destas métricas, discorra acerca da qualidade desta solução perante o conjunto de\n",
        "testes.\n",
        "\n",
        "Apresente dois gráficos com a solução obtida pelo neurônio Perceptron, mas um deles contendo os dados de treinamento e o outro contendo os dados de teste. Disponha tais gráficos lado a lado."
      ],
      "metadata": {
        "id": "BjoH3sIJAitB"
      }
    },
    {
      "cell_type": "code",
      "source": [],
      "metadata": {
        "id": "nujKw524AqsA"
      },
      "execution_count": 14,
      "outputs": []
    },
    {
      "cell_type": "code",
      "source": [],
      "metadata": {
        "id": "N9DKhqgGArMq"
      },
      "execution_count": 14,
      "outputs": []
    },
    {
      "cell_type": "code",
      "source": [],
      "metadata": {
        "id": "EJW01RDkArH-"
      },
      "execution_count": 14,
      "outputs": []
    },
    {
      "cell_type": "code",
      "source": [],
      "metadata": {
        "id": "-6xQgGryArDN"
      },
      "execution_count": 14,
      "outputs": []
    },
    {
      "cell_type": "code",
      "source": [],
      "metadata": {
        "id": "v3bX0dHQAq94"
      },
      "execution_count": 14,
      "outputs": []
    },
    {
      "cell_type": "markdown",
      "source": [
        "Links Úteis\n",
        "- <https://numpy.org/>\n",
        "- <https://numpy.org/doc/stable/>\n",
        "- <https://matplotlib.org/3.3.0/api/_as_gen/matplotlib.pyplot.scatter.html>\n",
        "- <https://jakevdp.github.io/PythonDataScienceHandbook/04.02-simple-scatter-plots.html>"
      ],
      "metadata": {
        "id": "U46-3-5sAw2n"
      }
    }
  ]
}